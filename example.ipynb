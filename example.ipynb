{
 "cells": [
  {
   "cell_type": "markdown",
   "metadata": {},
   "source": [
    "# 1 - Preparando ambiente"
   ]
  },
  {
   "cell_type": "markdown",
   "metadata": {},
   "source": [
    "## Instalar requisitos"
   ]
  },
  {
   "cell_type": "code",
   "execution_count": null,
   "metadata": {},
   "outputs": [],
   "source": [
    "%pip install -r requirements.txt"
   ]
  },
  {
   "cell_type": "markdown",
   "metadata": {},
   "source": [
    "## Importar biblioteca"
   ]
  },
  {
   "cell_type": "code",
   "execution_count": null,
   "metadata": {},
   "outputs": [],
   "source": [
    "from main import eContabilSite, insistir"
   ]
  },
  {
   "cell_type": "markdown",
   "metadata": {},
   "source": [
    "## Definir senha\n",
    "\n",
    "Para que o processo possa ser executado corretamente, é preciso ter um arquivo config.json com o domínio, usuário e senha do ambiente informados para que a plataforma possa ser acessada.\n",
    "\n",
    "Use o arquivo ```config_sample.json```para se basear ao criar o arquivo ```config.json``` corretamente."
   ]
  },
  {
   "cell_type": "markdown",
   "metadata": {},
   "source": [
    "# 2 - Iniciando a exportação"
   ]
  },
  {
   "cell_type": "code",
   "execution_count": null,
   "metadata": {},
   "outputs": [],
   "source": [
    "print('Define o Log de erros como falso. (exibe erros e status no console)')\n",
    "dbg = False\n",
    "print('Carrega a classe, abre o navegador, loga na plataforma.')\n",
    "es = eContabilSite(dbg)\n",
    "\n",
    "print('Cria tabelas de acompanhamento do processo no banco de dados')\n",
    "es.create_tables()"
   ]
  },
  {
   "cell_type": "code",
   "execution_count": null,
   "metadata": {},
   "outputs": [],
   "source": [
    "print('Raspar dados de Clientes')\n",
    "es.get_clients()\n",
    "\n",
    "print('Raspar dados dos eventos')\n",
    "es.get_movfolha()\n",
    "\n",
    "print('Raspar dados dos outros pagamentos')\n",
    "es.get_outros_pag()\n",
    "\n",
    "print('Raspar dados dos outros pagamentos')\n",
    "es.get_outros_pag()\n",
    "\n",
    "print('Raspar dados dos usuários')\n",
    "es.get_user()"
   ]
  },
  {
   "cell_type": "markdown",
   "metadata": {},
   "source": [
    "## Obter movimento\n",
    "\n",
    "Esta etapa é a mais demorada. Ela é responsável por baixar os arquivos\n",
    "\n",
    "**IMPORTANTE:** requer que a função ```.get_clients()``` já tenha sido chamada antes.\n",
    "\n",
    "O Exemlo abaixo usa o método ```insistir``` da biblioteca main. Este método foi criado para invocar várias vezes a função ```.get_mov()``` da classe eContabilSite, visto que o site parece parar de responder em alguns casos. Devido a ocorrência infrquente de erros e baixa reutilização deste código, optou-se por não tratar o erro e usar a força bruta (chamar novamente a função, até dar certo). Usando este método, pode-se obter em média 490 Protocolos e 490 recibos para cada hora de execução do código (imprimindo como PDF)."
   ]
  },
  {
   "cell_type": "code",
   "execution_count": null,
   "metadata": {},
   "outputs": [],
   "source": [
    "# Caso queira pode dividir a carga em mais de um executor pyhton, nos meus testes não fez diferença, portanto pode usar 1\n",
    "quant_to_split = 1 \n",
    "number_bot = 0\n",
    "\n",
    "anos = list(range(2014,2020))  #Obter dados de 2014 à 2019\n",
    "meses = list(range(1,14)) #Obter dados do mês 1 ao mês 13\n",
    "\n",
    "es = insistir(quant_to_split=quant_to_split, number_bot=number_bot, anos=anos, meses=meses)"
   ]
  }
 ],
 "metadata": {
  "language_info": {
   "name": "python"
  }
 },
 "nbformat": 4,
 "nbformat_minor": 2
}
