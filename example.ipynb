{
 "cells": [
  {
   "cell_type": "markdown",
   "metadata": {},
   "source": [
    "# 1 - Preparando ambiente"
   ]
  },
  {
   "cell_type": "markdown",
   "metadata": {},
   "source": [
    "## Instalar requisitos"
   ]
  },
  {
   "cell_type": "code",
   "execution_count": null,
   "metadata": {},
   "outputs": [],
   "source": [
    "%pip install -r requirements.txt"
   ]
  },
  {
   "cell_type": "markdown",
   "metadata": {},
   "source": [
    "## Importar biblioteca"
   ]
  },
  {
   "cell_type": "code",
   "execution_count": null,
   "metadata": {},
   "outputs": [],
   "source": [
    "from main import eContabilSite, insistir, AlwaysDoubleCheck"
   ]
  },
  {
   "cell_type": "markdown",
   "metadata": {},
   "source": [
    "## Definir senha\n",
    "\n",
    "Para que o processo possa ser executado corretamente, é preciso ter um arquivo config.json com o domínio, usuário e senha do ambiente informados para que a plataforma possa ser acessada.\n",
    "\n",
    "Use o arquivo ```config_sample.json```para se basear ao criar o arquivo ```config.json``` corretamente."
   ]
  },
  {
   "cell_type": "markdown",
   "metadata": {},
   "source": [
    "# 2 - Iniciando a exportação"
   ]
  },
  {
   "cell_type": "code",
   "execution_count": null,
   "metadata": {},
   "outputs": [],
   "source": [
    "print('Define o Log de erros como falso. (exibe erros e status no console)')\n",
    "dbg = False\n",
    "print('Carrega a classe, abre o navegador, loga na plataforma.')\n",
    "es = eContabilSite(dbg)\n",
    "\n",
    "print('Cria tabelas de acompanhamento do processo no banco de dados')\n",
    "es.create_tables()"
   ]
  },
  {
   "cell_type": "code",
   "execution_count": null,
   "metadata": {},
   "outputs": [],
   "source": [
    "print('Raspar dados de Clientes')\n",
    "es.get_clients()\n",
    "\n",
    "print('Raspar dados dos eventos')\n",
    "es.get_movfolha()\n",
    "\n",
    "print('Raspar dados dos outros pagamentos')\n",
    "es.get_outros_pag()\n",
    "\n",
    "print('Raspar dados dos outros pagamentos')\n",
    "es.get_outros_pag()\n",
    "\n",
    "print('Raspar dados dos usuários')\n",
    "es.get_user()"
   ]
  },
  {
   "cell_type": "markdown",
   "metadata": {},
   "source": [
    "## Obter movimento\n",
    "\n",
    "Esta etapa é a mais demorada. Ela é responsável por baixar os documentos comprovando o envio de cada Guia.\n",
    "\n",
    "Antes de iniciar, é preciso reabilitar os clientes inativos."
   ]
  },
  {
   "cell_type": "code",
   "execution_count": null,
   "metadata": {},
   "outputs": [],
   "source": [
    "es.re_enable_clients()"
   ]
  },
  {
   "cell_type": "markdown",
   "metadata": {},
   "source": [
    "**IMPORTANTE:** requer que a função ```.get_clients()``` já tenha sido chamada antes.\n",
    "\n",
    "O Exemlo abaixo usa o método ```insistir``` da biblioteca main. Este método foi criado para invocar várias vezes a função ```.get_mov()``` da classe eContabilSite, visto que o site parece parar de responder em alguns casos. Devido a ocorrência infrquente de erros e baixa reutilização deste código, optou-se por não tratar o erro e usar a força bruta (chamar novamente a função, até dar certo). Usando este método, pode-se obter em média 490 Protocolos e 490 recibos para cada hora de execução do código (imprimindo como PDF).\n",
    "\n",
    "**Este código é persistente**. De tempos em tempos, observe o output, caso o mesmo aviso ocorra no mesmo ponto do processo, algum erro não precisto pode ter sido encontrado. Pare o processo, analise e corrija o que for preciso no código."
   ]
  },
  {
   "cell_type": "code",
   "execution_count": null,
   "metadata": {},
   "outputs": [],
   "source": [
    "# Caso queira pode dividir a carga em mais de um executor pyhton, nos meus testes não fez diferença, portanto pode usar 1\n",
    "quant_to_split = 1 \n",
    "number_bot = 0\n",
    "\n",
    "anos = list(range(2014,2020))  #Obter dados de 2014 à 2019\n",
    "meses = list(range(1,14)) #Obter dados do mês 1 ao mês 13\n",
    "\n",
    "es = insistir(quant_to_split=quant_to_split, number_bot=number_bot, anos=anos, meses=meses)"
   ]
  },
  {
   "cell_type": "markdown",
   "metadata": {},
   "source": [
    "Caso queira acompanhar o código ou realizar um **debug**, é possível executar a função ```.get_saved_clients()``` com o parâmetro ```dbg = True```, desta forma o navegador será exibido e no Console serão printados todos os erros que possam parecer.\n",
    "\n",
    "Segue outro exemplo abaixo:"
   ]
  },
  {
   "cell_type": "code",
   "execution_count": null,
   "metadata": {},
   "outputs": [],
   "source": [
    "df_clientes = es.get_saved_clients() #Obterm os clientes já salvos\n",
    "anos = list(range(2014,2020))\n",
    "meses = list(range(1,14))\n",
    "dbg = True\n",
    "es.get_mov(df_clientes, anos, meses, dbg)"
   ]
  },
  {
   "cell_type": "markdown",
   "metadata": {},
   "source": [
    "# 3 - Correções\n",
    "\n",
    "Mesmo com todas as medidas de precauções é possível que um ou outro erro passe desapercebido. Os comandos abaixo cruzam a relação de arquivos baixados presentes na pasta com os impostos registrados no banco de dados. Caso haja discrepância é possível corrigir utilizando algumas ações."
   ]
  },
  {
   "cell_type": "markdown",
   "metadata": {},
   "source": [
    "## a) Remover aruivos duplicados\n",
    "\n",
    "Esta rotina localiza e exclui arquivos que foram baixados mais de uma vez. Isso pode ocorrer caso a conexão ou a automação falhe durante a captura de da competência de um cliente. Os itens já baixados não são ignorados e por segurança são baixados novamente."
   ]
  },
  {
   "cell_type": "code",
   "execution_count": null,
   "metadata": {},
   "outputs": [],
   "source": [
    "dk = AlwaysDoubleCheck()\n",
    "dk.remove_duplicates_files()"
   ]
  },
  {
   "cell_type": "markdown",
   "metadata": {},
   "source": [
    "## b) Encontrar inconsistências\n",
    "\n",
    "Essa rotina fazr o cruzamento dos aruqivos baixados com o banco de dados. E salva no banco de dados uma relação de erros na tabela ```Erros```. Idealmente deve-se corrigir os erros de que tenham dados na coluna ```company``` antes de iniciar. Estes são arquivos que foram baixados mas não estão no banco de dados."
   ]
  },
  {
   "cell_type": "code",
   "execution_count": null,
   "metadata": {},
   "outputs": [],
   "source": [
    "dk.update_errors()"
   ]
  },
  {
   "cell_type": "markdown",
   "metadata": {},
   "source": [
    "## c) Reprocessar Ausentes\n",
    "\n",
    "Após corritir os erros que tenham dados na coluna ```company``` podemos focar nos erros onde evistem dados na coluna ```companyb```. Este são tributos localizados no site, mas que não foram baixados. Para reprocessa-los pode-se executar o seguinte comando:"
   ]
  },
  {
   "cell_type": "code",
   "execution_count": null,
   "metadata": {},
   "outputs": [],
   "source": [
    "# Reprocessar\n",
    "dk.rerun()\n",
    "\n",
    "# Remover possíveis duplicatas reincluídas\n",
    "dk.remove_duplicates_files()\n",
    "\n",
    "# Revalidar\n",
    "dk.update_errors()"
   ]
  },
  {
   "cell_type": "markdown",
   "metadata": {},
   "source": [
    "Após essa etapa, pode-se recomeçar a análise. Estes passos podem ser repetidos até que não haja mais nenhum erro presente na tabela ```Erros```.\n",
    "\n",
    "Se tudo estiver correto, é possível desabilitar os clientes reabilitados."
   ]
  },
  {
   "cell_type": "code",
   "execution_count": null,
   "metadata": {},
   "outputs": [],
   "source": [
    "es.re_disable_clients()"
   ]
  },
  {
   "cell_type": "markdown",
   "metadata": {},
   "source": [
    "# 4 - Zip\n",
    "\n",
    "Ao final do processo é possível agrupar as guias de cada cliente em um único arquivo Zip, facilitando sua sincronização com o OneDrive."
   ]
  },
  {
   "cell_type": "code",
   "execution_count": null,
   "metadata": {},
   "outputs": [],
   "source": [
    "# Create a folder for each client\n",
    "dk.group_file_by_client()\n",
    "\n",
    "# Create one Zip for each folder\n",
    "dk.zip()"
   ]
  }
 ],
 "metadata": {
  "language_info": {
   "name": "python"
  }
 },
 "nbformat": 4,
 "nbformat_minor": 2
}
